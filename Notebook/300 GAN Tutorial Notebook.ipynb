{
 "cells": [
  {
   "cell_type": "markdown",
   "metadata": {},
   "source": [
    "# 300 GAN Tutorial Notebook\n",
    "\n",
    "This Notebook should give a quick introduction to the inner workings of GANs by showing how to write a GAN that produces handwritten digits from the MNIST Database. The code is dependant on keras, matplotlib and numpy while using Tensorflow 2.X.\n",
    "\n",
    "\n",
    "## Sources:\n",
    "MNIST Database:\n",
    " - http://yann.lecun.com/exdb/mnist/\n",
    "\n",
    "Papers:\n",
    " - https://papers.nips.cc/paper/5423-generative-adversarial-nets.pdf\n",
    "\n",
    "Tutorials:\n",
    " - https://colab.research.google.com/github/jeffheaton/t81_558_deep_learning/blob/master/t81_558_class_07_2_Keras_gan.ipynb#scrollTo=gL5byGhNzOzd\n",
    " - https://machinelearningmastery.com/how-to-develop-a-generative-adversarial-network-for-an-mnist-handwritten-digits-from-scratch-in-keras/\n",
    " \n",
    "\n",
    "## Training a GAN\n",
    "\n",
    "### Step 1\n",
    "\n",
    "Training takes place in two steps shown below. In the first step, the discriminator is trained to classify between real and generated digits. A vector from the latent space (*LATENT_DIM*) full of random numbers is inputted into the generator. The generator takes these numbers and creates a small image with dimensions 7 x 7. Then, this small image is upscaled with *Conv2DTranspose* to 14 x 14 and then to 28 x 28 in the subsequent two layers. We finally apply sigmoid to the values and have successfully generated an image from a vector from the latent space.\n",
    "\n",
    "128 *image_samples* from the MNIST dataset and 128 *generated_images* form the dataset *images_all* and values *y_all* for the first step. This is passed to the discriminator, while real images are labeled with 1 and generated \"fake\" images are labeled with 0. Backpropagation is applied to optimize the discriminator.\n",
    "\n",
    "\n",
    "### Step 2\n",
    "\n",
    "The second step trains the generator. Generator and discriminator are combined to form one big network called *gan_model*. d_model.trainable = False makes sure the discriminator is not trained. Making a big model helps make the code for training simpler.\n",
    "\n",
    "Again, a full batch (*n_batch = 256*) of vectors from the latent space is generated. They are passed into the *gan_model*, which generates fake images inside it and then uses the discriminator to try and tell real and generated images apart.\n",
    "\n",
    "y_generator_flipped = np.ones((n_batch, 1)), because the generator should be taught to trick the discriminator into thinking that fake generated images (0) are actually real (1). This metric is used to optimize the generator.\n",
    "\n",
    "\n",
    "<img src=\"GAN with MNIST-1.png\">\n",
    "<img src=\"GAN with MNIST-2.png\">\n"
   ]
  },
  {
   "cell_type": "code",
   "execution_count": 1,
   "metadata": {},
   "outputs": [
    {
     "name": "stdout",
     "output_type": "stream",
     "text": [
      "(60000, 28, 28, 1)\n",
      "(60000,)\n"
     ]
    },
    {
     "data": {
      "text/plain": [
       "<matplotlib.image.AxesImage at 0x2a557243908>"
      ]
     },
     "execution_count": 1,
     "metadata": {},
     "output_type": "execute_result"
    },
    {
     "data": {
      "image/png": "[encoded data removed]",
      "text/plain": [
       "<Figure size 432x288 with 1 Axes>"
      ]
     },
     "metadata": {
      "needs_background": "light"
     },
     "output_type": "display_data"
    }
   ],
   "source": [
    "import tensorflow as tf\n",
    "import numpy as np\n",
    "\n",
    "import csv\n",
    "import random\n",
    "\n",
    "import tensorflow as tf\n",
    "from tensorflow.keras.layers import Input, Reshape, Dropout, Dense\n",
    "from tensorflow.keras.layers import Flatten, BatchNormalization\n",
    "from tensorflow.keras.layers import Activation, ZeroPadding2D\n",
    "from tensorflow.keras.layers import UpSampling2D, Conv2D, Conv2DTranspose, LeakyReLU\n",
    "from tensorflow.keras.models import Sequential, Model, load_model\n",
    "from tensorflow.keras.optimizers import Adam\n",
    "# from tqdm import tqdm\n",
    "import os\n",
    "import time\n",
    "import matplotlib.pyplot as plt\n",
    "\n",
    "\n",
    "\n",
    "mnist = tf.keras.datasets.mnist\n",
    "\n",
    "# Expand Dimensions to 3D to add one for the color channel of black and white: expand_dims(train_images, axis=-1)\n",
    "# Normalize the image by dividing by 255 --> faster convergence\n",
    "(train_images, train_labels), (test_images, test_labels) = mnist.load_data()\n",
    "train_images, test_images = np.expand_dims(train_images, axis=-1) / 255.0, np.expand_dims(train_images, axis=-1) / 255.0\n",
    "\n",
    "\n",
    "# Examples\n",
    "# Shape is (60000, 28, 28, 1) for 60 000 images with dimensions 28 x 28 and 1 color channel (black and white)\n",
    "print(train_images.shape)\n",
    "print(train_labels.shape)\n",
    "\n",
    "plt.imshow(train_images[0, :, :, 0], cmap='gray_r')\n",
    "plt.imshow(train_images[42, :, :, 0], cmap='gray_r')"
   ]
  },
  {
   "cell_type": "code",
   "execution_count": 2,
   "metadata": {},
   "outputs": [
    {
     "name": "stdout",
     "output_type": "stream",
     "text": [
      "[[ 1.71048738e+00  6.24894818e-01  1.82559324e-01  1.26745636e+00\n",
      "   4.50623836e-01 -1.61293434e-01 -2.73237955e-01  4.84640636e-01\n",
      "  -8.64686765e-01 -1.03208651e+00 -2.15731375e-01 -5.68371617e-01\n",
      "   5.03316961e-01 -1.31112929e+00 -8.46018454e-01 -7.18483950e-01\n",
      "   2.44011301e-01 -1.82653910e-01 -1.05756141e+00  2.33687956e-01\n",
      "   9.41271138e-02  3.95932572e-02  4.78188911e-01  2.37661512e-01\n",
      "  -9.72681093e-01  1.72230552e+00  2.86259364e-01  1.02034630e+00\n",
      "  -2.36900174e+00 -1.65794230e+00  1.07340318e+00  1.24468821e+00\n",
      "  -1.36002891e+00  3.87263790e-01  7.22997447e-01  1.39602157e+00\n",
      "   1.12140831e-01  1.30355261e+00  4.03475324e-01 -2.59927248e-01\n",
      "  -4.73738440e-01  6.99137556e-01 -1.78973376e+00  7.09073884e-01\n",
      "   3.37758718e-02 -1.47255241e-02  1.57133315e-01 -2.96967049e-01\n",
      "   1.49776670e+00  9.36882027e-01  1.50345013e+00 -2.02815438e+00\n",
      "   2.50558047e-02  3.72794511e-01 -3.17160019e-01  9.92228316e-02\n",
      "   7.80307802e-01 -1.28425852e+00  2.09980778e-01  8.66979511e-01\n",
      "   1.49415151e-01  2.24006693e-01  3.52715110e+00  1.98228260e-01\n",
      "   9.77731817e-01 -1.56831794e+00 -1.00647062e+00  1.23902748e+00\n",
      "   1.43379789e-01  4.85378082e-01  1.69293235e+00 -1.26305141e+00\n",
      "  -3.11167621e-01 -2.90262536e+00 -1.32289609e-03 -2.57703583e-01\n",
      "  -4.48614675e-01 -1.32207915e-01  1.23665081e+00  1.40544838e+00\n",
      "   5.78899450e-01 -9.55287101e-02  1.43804730e+00  1.83361962e+00\n",
      "  -6.83413528e-01 -1.26932492e-01  1.51325066e+00  7.81516255e-01\n",
      "  -7.13978837e-01  8.52579984e-02  7.97460186e-01 -1.86307325e+00\n",
      "  -7.57104008e-01 -3.77924984e-01  2.35778309e-01 -1.93791428e+00\n",
      "   8.92273654e-01  7.31110437e-01 -5.88619239e-01  9.08271485e-01]]\n"
     ]
    },
    {
     "data": {
      "text/plain": [
       "<matplotlib.image.AxesImage at 0x2a559339ec8>"
      ]
     },
     "execution_count": 2,
     "metadata": {},
     "output_type": "execute_result"
    },
    {
     "data": {
      "image/png": "[encoded data removed]",
      "text/plain": [
       "<Figure size 432x288 with 1 Axes>"
      ]
     },
     "metadata": {
      "needs_background": "light"
     },
     "output_type": "display_data"
    }
   ],
   "source": [
    "# Two helper functions\n",
    "\n",
    "# Sample minibatch of m MNIST samples from seed:\n",
    "def get_MNIST_samples(n_samples):\n",
    "    # Pick new image samples from dataset\n",
    "    # Pick random images to help with gradient descent\n",
    "    image_samples = np.zeros((n_samples, 28, 28, 1))\n",
    "\n",
    "    for i in range(0, n_samples):\n",
    "        index = random.randint(0, 59999)\n",
    "        image_samples[i] = train_images[index]\n",
    "\n",
    "    # Generate actual class labels (1)\n",
    "    y_MNIST = np.ones((n_samples, 1))\n",
    "\n",
    "    return image_samples, y_MNIST\n",
    "\n",
    "\n",
    "# Sample minibatch of m noise samples from seed:\n",
    "def generate_latent_points(latent_dim, n_samples):\n",
    "    # generate points in the latent space\n",
    "    latent_points = np.random.randn(latent_dim * n_samples)\n",
    "\n",
    "    # reshape into a batch of inputs for the network\n",
    "    latent_points = latent_points.reshape(n_samples, latent_dim)\n",
    "\n",
    "    return latent_points\n",
    "\n",
    "\n",
    "# Examples\n",
    "latent_points_example = generate_latent_points(100, 1)\n",
    "print(latent_points_example)\n",
    "\n",
    "# Examples\n",
    "MNIST_example, y_example = get_MNIST_samples(1)\n",
    "plt.imshow(MNIST_example[0, :, :, 0], cmap='gray_r')"
   ]
  },
  {
   "cell_type": "code",
   "execution_count": 3,
   "metadata": {},
   "outputs": [
    {
     "name": "stdout",
     "output_type": "stream",
     "text": [
      "Discriminator Output:  [[0.51577157]]\n"
     ]
    },
    {
     "data": {
      "image/png": "[encoded data removed]",
      "text/plain": [
       "<Figure size 432x288 with 1 Axes>"
      ]
     },
     "metadata": {
      "needs_background": "light"
     },
     "output_type": "display_data"
    }
   ],
   "source": [
    "# Define all 3 models with the help of Keras\n",
    "\n",
    "# Define the standalone generator model\n",
    "def build_generator(LATENT_DIM=100):\n",
    "    model = Sequential()\n",
    "\n",
    "    # foundation for 7x7 image\n",
    "    n_nodes = 128 * 7 * 7\n",
    "    model.add(Dense(n_nodes, input_dim=LATENT_DIM))\n",
    "    model.add(LeakyReLU(alpha=0.2))\n",
    "    model.add(Reshape((7, 7, 128)))\n",
    "\n",
    "    # Upsample to 14x14\n",
    "    model.add(Conv2DTranspose(128, (4, 4), strides=(2, 2), padding='same'))\n",
    "    model.add(LeakyReLU(alpha=0.2))\n",
    "\n",
    "    # Upsample to 28x28\n",
    "    model.add(Conv2DTranspose(128, (4, 4), strides=(2, 2), padding='same'))\n",
    "    model.add(LeakyReLU(alpha=0.2))\n",
    "    model.add(Conv2D(1, (7, 7), activation='sigmoid', padding='same'))\n",
    "\n",
    "    return model\n",
    "\n",
    "\n",
    "# Define the standalone discriminator model\n",
    "def build_discriminator(in_shape=(28, 28, 1)):\n",
    "    model = Sequential()\n",
    "\n",
    "    model.add(Conv2D(64, (3, 3), strides=(2, 2), padding='same', input_shape=in_shape))\n",
    "    model.add(LeakyReLU(alpha=0.2))\n",
    "    model.add(Dropout(0.4))\n",
    "\n",
    "    model.add(Conv2D(64, (3, 3), strides=(2, 2), padding='same'))\n",
    "    model.add(LeakyReLU(alpha=0.2))\n",
    "    model.add(Dropout(0.4))\n",
    "\n",
    "    model.add(Flatten())\n",
    "    model.add(Dense(1, activation='sigmoid'))\n",
    "\n",
    "    optimizer = Adam(lr=0.0002, beta_1=0.5)\n",
    "    model.compile(loss='binary_crossentropy', optimizer=optimizer, metrics=['accuracy'])\n",
    "\n",
    "    return model\n",
    "\n",
    "\n",
    "# Define the combined generator and discriminator model, for updating the generator\n",
    "def build_gan(g_model, d_model):\n",
    "    # make weights in the discriminator not trainable\n",
    "    d_model.trainable = False\n",
    "\n",
    "    # connect them\n",
    "    model = Sequential()\n",
    "\n",
    "    # add generator\n",
    "    model.add(g_model)\n",
    "    # add the discriminator\n",
    "    model.add(d_model)\n",
    "\n",
    "    # compile model\n",
    "    optimizer = Adam(lr=0.0002, beta_1=0.5)\n",
    "    model.compile(loss='binary_crossentropy', optimizer=optimizer)\n",
    "\n",
    "    return model\n",
    "\n",
    "\n",
    "# Example Generator\n",
    "generator_example = build_generator()\n",
    "latent_points_example = generate_latent_points(100, 1)\n",
    "\n",
    "generated_images_example = generator_example.predict(latent_points_example)\n",
    "plt.imshow(generated_images_example[0, :, :, 0], cmap='gray_r')\n",
    "\n",
    "# Example Discriminator\n",
    "discriminator_example = build_discriminator()\n",
    "\n",
    "prediction_example = discriminator_example.predict(generated_images_example)\n",
    "print('Discriminator Output: ', prediction_example)"
   ]
  },
  {
   "cell_type": "code",
   "execution_count": 4,
   "metadata": {},
   "outputs": [],
   "source": [
    "# Train the model\n",
    "def train(generator, discriminator, gan_model, LATENT_DIM, n_epochs=100, n_batch=256):\n",
    "    \n",
    "    batches_per_epoch = int(60000 / n_batch)\n",
    "    n_half_batch = int(n_batch / 2)\n",
    "\n",
    "    for epoch in range(0, n_epochs):\n",
    "        for batch in range(0, batches_per_epoch):\n",
    "            \n",
    "            # Get real image samples from MNIST dataset\n",
    "            image_samples, y = get_MNIST_samples(n_half_batch)\n",
    "            # Generate points from the latent space (Size: n_half_batch)\n",
    "            latent_points = generate_latent_points(LATENT_DIM, n_half_batch)\n",
    "            # Generate 'fake' class label (0)\n",
    "            y_generator = np.zeros((n_half_batch, 1))\n",
    "\n",
    "            # Generate fake images by inputting the latent_points into the generator\n",
    "            generated_images = generator.predict(latent_points)\n",
    "\n",
    "            # Step 1 ************\n",
    "            # np.vstack stacks arrays in sequence vertically (row wise) -> combine real and generated datasets\n",
    "            images_all, y_all = np.vstack((image_samples, generated_images)), np.vstack((y, y_generator))\n",
    "            # Update the discriminator loss\n",
    "            discriminator_loss, _ = discriminator.train_on_batch(images_all, y_all)\n",
    "\n",
    "            # Step 2 ************\n",
    "            # Generate points from the latent space (Size: this time n_batch)\n",
    "            latent_points = generate_latent_points(LATENT_DIM, n_batch)\n",
    "            # Generate 'fake' class label, but flip them to trip disciminator into thinking it is real (not 0, but 1)\n",
    "            y_generator_flipped = np.ones((n_batch, 1))\n",
    "            generator_loss = gan_model.train_on_batch(latent_points, y_generator_flipped)\n",
    "\n",
    "            print('Epoch: ', epoch, '   Batch Number: ', batch, ' / ', batches_per_epoch, '   Generator Loss: ', generator_loss, '   Discriminator Loss: ', discriminator_loss)\n",
    "\n",
    "            if batch % 25 == 0:\n",
    "                # Matplotlib to capture generated the images ###\n",
    "                fig = plt.figure()\n",
    "                for a in range(32):\n",
    "                    ax = fig.add_subplot(6, 6, a + 1)\n",
    "                    plt.imshow(generated_images[a, :, :, 0], cmap='gray_r')\n",
    "\n",
    "                # Plots are saved with 4 digit numbers in the name to avoid flickering in the video\n",
    "                plt.savefig('plot  epoch ' + '%02d' % epoch + '  batch ' + '%05d' % batch + '.png', dpi=600)\n",
    "                plt.close()\n",
    "                # End Matplotlib                             ###\n",
    "\n",
    "                # Save the generator and discriminator\n",
    "                generator.save('generator.h5')\n",
    "                discriminator.save('discriminator.h5')"
   ]
  },
  {
   "cell_type": "code",
   "execution_count": 5,
   "metadata": {},
   "outputs": [
    {
     "name": "stdout",
     "output_type": "stream",
     "text": [
      "Epoch:  0    Batch Number:  0  /  234    Generator Loss:  0.719807505607605    Discriminator Loss:  0.6784718036651611\n",
      "Epoch:  0    Batch Number:  1  /  234    Generator Loss:  0.7372521162033081    Discriminator Loss:  0.6744446754455566\n",
      "Epoch:  0    Batch Number:  2  /  234    Generator Loss:  0.7525892853736877    Discriminator Loss:  0.6688157320022583\n",
      "Epoch:  0    Batch Number:  3  /  234    Generator Loss:  0.7734922170639038    Discriminator Loss:  0.6581707000732422\n",
      "Epoch:  0    Batch Number:  4  /  234    Generator Loss:  0.782932698726654    Discriminator Loss:  0.6543998718261719\n",
      "Epoch:  0    Batch Number:  5  /  234    Generator Loss:  0.7962650656700134    Discriminator Loss:  0.6462928652763367\n"
     ]
    },
    {
     "ename": "KeyboardInterrupt",
     "evalue": "",
     "output_type": "error",
     "traceback": [
      "\u001b[1;31m---------------------------------------------------------------------------\u001b[0m",
      "\u001b[1;31mKeyboardInterrupt\u001b[0m                         Traceback (most recent call last)",
      "\u001b[1;32m<ipython-input-5-b27f18687b17>\u001b[0m in \u001b[0;36m<module>\u001b[1;34m\u001b[0m\n\u001b[0;32m     14\u001b[0m \u001b[1;33m\u001b[0m\u001b[0m\n\u001b[0;32m     15\u001b[0m \u001b[1;31m# Train model\u001b[0m\u001b[1;33m\u001b[0m\u001b[1;33m\u001b[0m\u001b[1;33m\u001b[0m\u001b[0m\n\u001b[1;32m---> 16\u001b[1;33m \u001b[0mtrain\u001b[0m\u001b[1;33m(\u001b[0m\u001b[0mgenerator\u001b[0m\u001b[1;33m,\u001b[0m \u001b[0mdiscriminator\u001b[0m\u001b[1;33m,\u001b[0m \u001b[0mgan_model\u001b[0m\u001b[1;33m,\u001b[0m \u001b[0mLATENT_DIM\u001b[0m\u001b[1;33m)\u001b[0m\u001b[1;33m\u001b[0m\u001b[1;33m\u001b[0m\u001b[0m\n\u001b[0m",
      "\u001b[1;32m<ipython-input-4-a67c4b13da31>\u001b[0m in \u001b[0;36mtrain\u001b[1;34m(generator, discriminator, gan_model, LATENT_DIM, n_epochs, n_batch)\u001b[0m\n\u001b[0;32m     29\u001b[0m             \u001b[1;31m# Generate 'fake' class label, but flip them to trip disciminator into thinking it is real (not 0, but 1)\u001b[0m\u001b[1;33m\u001b[0m\u001b[1;33m\u001b[0m\u001b[1;33m\u001b[0m\u001b[0m\n\u001b[0;32m     30\u001b[0m             \u001b[0my_generator_flipped\u001b[0m \u001b[1;33m=\u001b[0m \u001b[0mnp\u001b[0m\u001b[1;33m.\u001b[0m\u001b[0mones\u001b[0m\u001b[1;33m(\u001b[0m\u001b[1;33m(\u001b[0m\u001b[0mn_batch\u001b[0m\u001b[1;33m,\u001b[0m \u001b[1;36m1\u001b[0m\u001b[1;33m)\u001b[0m\u001b[1;33m)\u001b[0m\u001b[1;33m\u001b[0m\u001b[1;33m\u001b[0m\u001b[0m\n\u001b[1;32m---> 31\u001b[1;33m             \u001b[0mgenerator_loss\u001b[0m \u001b[1;33m=\u001b[0m \u001b[0mgan_model\u001b[0m\u001b[1;33m.\u001b[0m\u001b[0mtrain_on_batch\u001b[0m\u001b[1;33m(\u001b[0m\u001b[0mlatent_points\u001b[0m\u001b[1;33m,\u001b[0m \u001b[0my_generator_flipped\u001b[0m\u001b[1;33m)\u001b[0m\u001b[1;33m\u001b[0m\u001b[1;33m\u001b[0m\u001b[0m\n\u001b[0m\u001b[0;32m     32\u001b[0m \u001b[1;33m\u001b[0m\u001b[0m\n\u001b[0;32m     33\u001b[0m             \u001b[0mprint\u001b[0m\u001b[1;33m(\u001b[0m\u001b[1;34m'Epoch: '\u001b[0m\u001b[1;33m,\u001b[0m \u001b[0mepoch\u001b[0m\u001b[1;33m,\u001b[0m \u001b[1;34m'   Batch Number: '\u001b[0m\u001b[1;33m,\u001b[0m \u001b[0mbatch\u001b[0m\u001b[1;33m,\u001b[0m \u001b[1;34m' / '\u001b[0m\u001b[1;33m,\u001b[0m \u001b[0mbatches_per_epoch\u001b[0m\u001b[1;33m,\u001b[0m \u001b[1;34m'   Generator Loss: '\u001b[0m\u001b[1;33m,\u001b[0m \u001b[0mgenerator_loss\u001b[0m\u001b[1;33m,\u001b[0m \u001b[1;34m'   Discriminator Loss: '\u001b[0m\u001b[1;33m,\u001b[0m \u001b[0mdiscriminator_loss\u001b[0m\u001b[1;33m)\u001b[0m\u001b[1;33m\u001b[0m\u001b[1;33m\u001b[0m\u001b[0m\n",
      "\u001b[1;32m~\\.conda\\envs\\Notebook\\lib\\site-packages\\tensorflow\\python\\keras\\engine\\training.py\u001b[0m in \u001b[0;36mtrain_on_batch\u001b[1;34m(self, x, y, sample_weight, class_weight, reset_metrics, return_dict)\u001b[0m\n\u001b[0;32m   1346\u001b[0m                                                     class_weight)\n\u001b[0;32m   1347\u001b[0m       \u001b[0mtrain_function\u001b[0m \u001b[1;33m=\u001b[0m \u001b[0mself\u001b[0m\u001b[1;33m.\u001b[0m\u001b[0mmake_train_function\u001b[0m\u001b[1;33m(\u001b[0m\u001b[1;33m)\u001b[0m\u001b[1;33m\u001b[0m\u001b[1;33m\u001b[0m\u001b[0m\n\u001b[1;32m-> 1348\u001b[1;33m       \u001b[0mlogs\u001b[0m \u001b[1;33m=\u001b[0m \u001b[0mtrain_function\u001b[0m\u001b[1;33m(\u001b[0m\u001b[0miterator\u001b[0m\u001b[1;33m)\u001b[0m\u001b[1;33m\u001b[0m\u001b[1;33m\u001b[0m\u001b[0m\n\u001b[0m\u001b[0;32m   1349\u001b[0m \u001b[1;33m\u001b[0m\u001b[0m\n\u001b[0;32m   1350\u001b[0m     \u001b[1;32mif\u001b[0m \u001b[0mreset_metrics\u001b[0m\u001b[1;33m:\u001b[0m\u001b[1;33m\u001b[0m\u001b[1;33m\u001b[0m\u001b[0m\n",
      "\u001b[1;32m~\\.conda\\envs\\Notebook\\lib\\site-packages\\tensorflow\\python\\eager\\def_function.py\u001b[0m in \u001b[0;36m__call__\u001b[1;34m(self, *args, **kwds)\u001b[0m\n\u001b[0;32m    578\u001b[0m         \u001b[0mxla_context\u001b[0m\u001b[1;33m.\u001b[0m\u001b[0mExit\u001b[0m\u001b[1;33m(\u001b[0m\u001b[1;33m)\u001b[0m\u001b[1;33m\u001b[0m\u001b[1;33m\u001b[0m\u001b[0m\n\u001b[0;32m    579\u001b[0m     \u001b[1;32melse\u001b[0m\u001b[1;33m:\u001b[0m\u001b[1;33m\u001b[0m\u001b[1;33m\u001b[0m\u001b[0m\n\u001b[1;32m--> 580\u001b[1;33m       \u001b[0mresult\u001b[0m \u001b[1;33m=\u001b[0m \u001b[0mself\u001b[0m\u001b[1;33m.\u001b[0m\u001b[0m_call\u001b[0m\u001b[1;33m(\u001b[0m\u001b[1;33m*\u001b[0m\u001b[0margs\u001b[0m\u001b[1;33m,\u001b[0m \u001b[1;33m**\u001b[0m\u001b[0mkwds\u001b[0m\u001b[1;33m)\u001b[0m\u001b[1;33m\u001b[0m\u001b[1;33m\u001b[0m\u001b[0m\n\u001b[0m\u001b[0;32m    581\u001b[0m \u001b[1;33m\u001b[0m\u001b[0m\n\u001b[0;32m    582\u001b[0m     \u001b[1;32mif\u001b[0m \u001b[0mtracing_count\u001b[0m \u001b[1;33m==\u001b[0m \u001b[0mself\u001b[0m\u001b[1;33m.\u001b[0m\u001b[0m_get_tracing_count\u001b[0m\u001b[1;33m(\u001b[0m\u001b[1;33m)\u001b[0m\u001b[1;33m:\u001b[0m\u001b[1;33m\u001b[0m\u001b[1;33m\u001b[0m\u001b[0m\n",
      "\u001b[1;32m~\\.conda\\envs\\Notebook\\lib\\site-packages\\tensorflow\\python\\eager\\def_function.py\u001b[0m in \u001b[0;36m_call\u001b[1;34m(self, *args, **kwds)\u001b[0m\n\u001b[0;32m    609\u001b[0m       \u001b[1;31m# In this case we have created variables on the first call, so we run the\u001b[0m\u001b[1;33m\u001b[0m\u001b[1;33m\u001b[0m\u001b[1;33m\u001b[0m\u001b[0m\n\u001b[0;32m    610\u001b[0m       \u001b[1;31m# defunned version which is guaranteed to never create variables.\u001b[0m\u001b[1;33m\u001b[0m\u001b[1;33m\u001b[0m\u001b[1;33m\u001b[0m\u001b[0m\n\u001b[1;32m--> 611\u001b[1;33m       \u001b[1;32mreturn\u001b[0m \u001b[0mself\u001b[0m\u001b[1;33m.\u001b[0m\u001b[0m_stateless_fn\u001b[0m\u001b[1;33m(\u001b[0m\u001b[1;33m*\u001b[0m\u001b[0margs\u001b[0m\u001b[1;33m,\u001b[0m \u001b[1;33m**\u001b[0m\u001b[0mkwds\u001b[0m\u001b[1;33m)\u001b[0m  \u001b[1;31m# pylint: disable=not-callable\u001b[0m\u001b[1;33m\u001b[0m\u001b[1;33m\u001b[0m\u001b[0m\n\u001b[0m\u001b[0;32m    612\u001b[0m     \u001b[1;32melif\u001b[0m \u001b[0mself\u001b[0m\u001b[1;33m.\u001b[0m\u001b[0m_stateful_fn\u001b[0m \u001b[1;32mis\u001b[0m \u001b[1;32mnot\u001b[0m \u001b[1;32mNone\u001b[0m\u001b[1;33m:\u001b[0m\u001b[1;33m\u001b[0m\u001b[1;33m\u001b[0m\u001b[0m\n\u001b[0;32m    613\u001b[0m       \u001b[1;31m# Release the lock early so that multiple threads can perform the call\u001b[0m\u001b[1;33m\u001b[0m\u001b[1;33m\u001b[0m\u001b[1;33m\u001b[0m\u001b[0m\n",
      "\u001b[1;32m~\\.conda\\envs\\Notebook\\lib\\site-packages\\tensorflow\\python\\eager\\function.py\u001b[0m in \u001b[0;36m__call__\u001b[1;34m(self, *args, **kwargs)\u001b[0m\n\u001b[0;32m   2418\u001b[0m     \u001b[1;32mwith\u001b[0m \u001b[0mself\u001b[0m\u001b[1;33m.\u001b[0m\u001b[0m_lock\u001b[0m\u001b[1;33m:\u001b[0m\u001b[1;33m\u001b[0m\u001b[1;33m\u001b[0m\u001b[0m\n\u001b[0;32m   2419\u001b[0m       \u001b[0mgraph_function\u001b[0m\u001b[1;33m,\u001b[0m \u001b[0margs\u001b[0m\u001b[1;33m,\u001b[0m \u001b[0mkwargs\u001b[0m \u001b[1;33m=\u001b[0m \u001b[0mself\u001b[0m\u001b[1;33m.\u001b[0m\u001b[0m_maybe_define_function\u001b[0m\u001b[1;33m(\u001b[0m\u001b[0margs\u001b[0m\u001b[1;33m,\u001b[0m \u001b[0mkwargs\u001b[0m\u001b[1;33m)\u001b[0m\u001b[1;33m\u001b[0m\u001b[1;33m\u001b[0m\u001b[0m\n\u001b[1;32m-> 2420\u001b[1;33m     \u001b[1;32mreturn\u001b[0m \u001b[0mgraph_function\u001b[0m\u001b[1;33m.\u001b[0m\u001b[0m_filtered_call\u001b[0m\u001b[1;33m(\u001b[0m\u001b[0margs\u001b[0m\u001b[1;33m,\u001b[0m \u001b[0mkwargs\u001b[0m\u001b[1;33m)\u001b[0m  \u001b[1;31m# pylint: disable=protected-access\u001b[0m\u001b[1;33m\u001b[0m\u001b[1;33m\u001b[0m\u001b[0m\n\u001b[0m\u001b[0;32m   2421\u001b[0m \u001b[1;33m\u001b[0m\u001b[0m\n\u001b[0;32m   2422\u001b[0m   \u001b[1;33m@\u001b[0m\u001b[0mproperty\u001b[0m\u001b[1;33m\u001b[0m\u001b[1;33m\u001b[0m\u001b[0m\n",
      "\u001b[1;32m~\\.conda\\envs\\Notebook\\lib\\site-packages\\tensorflow\\python\\eager\\function.py\u001b[0m in \u001b[0;36m_filtered_call\u001b[1;34m(self, args, kwargs)\u001b[0m\n\u001b[0;32m   1663\u001b[0m          if isinstance(t, (ops.Tensor,\n\u001b[0;32m   1664\u001b[0m                            resource_variable_ops.BaseResourceVariable))),\n\u001b[1;32m-> 1665\u001b[1;33m         self.captured_inputs)\n\u001b[0m\u001b[0;32m   1666\u001b[0m \u001b[1;33m\u001b[0m\u001b[0m\n\u001b[0;32m   1667\u001b[0m   \u001b[1;32mdef\u001b[0m \u001b[0m_call_flat\u001b[0m\u001b[1;33m(\u001b[0m\u001b[0mself\u001b[0m\u001b[1;33m,\u001b[0m \u001b[0margs\u001b[0m\u001b[1;33m,\u001b[0m \u001b[0mcaptured_inputs\u001b[0m\u001b[1;33m,\u001b[0m \u001b[0mcancellation_manager\u001b[0m\u001b[1;33m=\u001b[0m\u001b[1;32mNone\u001b[0m\u001b[1;33m)\u001b[0m\u001b[1;33m:\u001b[0m\u001b[1;33m\u001b[0m\u001b[1;33m\u001b[0m\u001b[0m\n",
      "\u001b[1;32m~\\.conda\\envs\\Notebook\\lib\\site-packages\\tensorflow\\python\\eager\\function.py\u001b[0m in \u001b[0;36m_call_flat\u001b[1;34m(self, args, captured_inputs, cancellation_manager)\u001b[0m\n\u001b[0;32m   1744\u001b[0m       \u001b[1;31m# No tape is watching; skip to running the function.\u001b[0m\u001b[1;33m\u001b[0m\u001b[1;33m\u001b[0m\u001b[1;33m\u001b[0m\u001b[0m\n\u001b[0;32m   1745\u001b[0m       return self._build_call_outputs(self._inference_function.call(\n\u001b[1;32m-> 1746\u001b[1;33m           ctx, args, cancellation_manager=cancellation_manager))\n\u001b[0m\u001b[0;32m   1747\u001b[0m     forward_backward = self._select_forward_and_backward_functions(\n\u001b[0;32m   1748\u001b[0m         \u001b[0margs\u001b[0m\u001b[1;33m,\u001b[0m\u001b[1;33m\u001b[0m\u001b[1;33m\u001b[0m\u001b[0m\n",
      "\u001b[1;32m~\\.conda\\envs\\Notebook\\lib\\site-packages\\tensorflow\\python\\eager\\function.py\u001b[0m in \u001b[0;36mcall\u001b[1;34m(self, ctx, args, cancellation_manager)\u001b[0m\n\u001b[0;32m    596\u001b[0m               \u001b[0minputs\u001b[0m\u001b[1;33m=\u001b[0m\u001b[0margs\u001b[0m\u001b[1;33m,\u001b[0m\u001b[1;33m\u001b[0m\u001b[1;33m\u001b[0m\u001b[0m\n\u001b[0;32m    597\u001b[0m               \u001b[0mattrs\u001b[0m\u001b[1;33m=\u001b[0m\u001b[0mattrs\u001b[0m\u001b[1;33m,\u001b[0m\u001b[1;33m\u001b[0m\u001b[1;33m\u001b[0m\u001b[0m\n\u001b[1;32m--> 598\u001b[1;33m               ctx=ctx)\n\u001b[0m\u001b[0;32m    599\u001b[0m         \u001b[1;32melse\u001b[0m\u001b[1;33m:\u001b[0m\u001b[1;33m\u001b[0m\u001b[1;33m\u001b[0m\u001b[0m\n\u001b[0;32m    600\u001b[0m           outputs = execute.execute_with_cancellation(\n",
      "\u001b[1;32m~\\.conda\\envs\\Notebook\\lib\\site-packages\\tensorflow\\python\\eager\\execute.py\u001b[0m in \u001b[0;36mquick_execute\u001b[1;34m(op_name, num_outputs, inputs, attrs, ctx, name)\u001b[0m\n\u001b[0;32m     58\u001b[0m     \u001b[0mctx\u001b[0m\u001b[1;33m.\u001b[0m\u001b[0mensure_initialized\u001b[0m\u001b[1;33m(\u001b[0m\u001b[1;33m)\u001b[0m\u001b[1;33m\u001b[0m\u001b[1;33m\u001b[0m\u001b[0m\n\u001b[0;32m     59\u001b[0m     tensors = pywrap_tfe.TFE_Py_Execute(ctx._handle, device_name, op_name,\n\u001b[1;32m---> 60\u001b[1;33m                                         inputs, attrs, num_outputs)\n\u001b[0m\u001b[0;32m     61\u001b[0m   \u001b[1;32mexcept\u001b[0m \u001b[0mcore\u001b[0m\u001b[1;33m.\u001b[0m\u001b[0m_NotOkStatusException\u001b[0m \u001b[1;32mas\u001b[0m \u001b[0me\u001b[0m\u001b[1;33m:\u001b[0m\u001b[1;33m\u001b[0m\u001b[1;33m\u001b[0m\u001b[0m\n\u001b[0;32m     62\u001b[0m     \u001b[1;32mif\u001b[0m \u001b[0mname\u001b[0m \u001b[1;32mis\u001b[0m \u001b[1;32mnot\u001b[0m \u001b[1;32mNone\u001b[0m\u001b[1;33m:\u001b[0m\u001b[1;33m\u001b[0m\u001b[1;33m\u001b[0m\u001b[0m\n",
      "\u001b[1;31mKeyboardInterrupt\u001b[0m: "
     ]
    }
   ],
   "source": [
    "# Build the GAN ************\n",
    "\n",
    "# Size of the latent space\n",
    "LATENT_DIM = 100\n",
    "\n",
    "\n",
    "# Define the discriminator\n",
    "discriminator = build_discriminator()\n",
    "# Define the generator\n",
    "generator = build_generator(LATENT_DIM)\n",
    "# Define the gan\n",
    "gan_model = build_gan(generator, discriminator)\n",
    "\n",
    "\n",
    "# Train model\n",
    "train(generator, discriminator, gan_model, LATENT_DIM)"
   ]
  },
  {
   "cell_type": "code",
   "execution_count": null,
   "metadata": {},
   "outputs": [],
   "source": []
  }
 ],
 "metadata": {
  "kernelspec": {
   "display_name": "Notebook",
   "language": "python",
   "name": "notebook"
  },
  "language_info": {
   "codemirror_mode": {
    "name": "ipython",
    "version": 3
   },
   "file_extension": ".py",
   "mimetype": "text/x-python",
   "name": "python",
   "nbconvert_exporter": "python",
   "pygments_lexer": "ipython3",
   "version": "3.7.7"
  }
 },
 "nbformat": 4,
 "nbformat_minor": 4
}
